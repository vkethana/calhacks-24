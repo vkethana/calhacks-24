{
 "cells": [
  {
   "cell_type": "code",
   "execution_count": 2,
   "metadata": {},
   "outputs": [
    {
     "name": "stderr",
     "output_type": "stream",
     "text": [
      "[*********************100%***********************]  1 of 1 completed"
     ]
    },
    {
     "name": "stdout",
     "output_type": "stream",
     "text": [
      "\n",
      "Downloaded Stock Data (Date, Adjusted Close Price):\n",
      "\n",
      "      Date  Adj Close\n",
      "2023-12-01 190.517059\n",
      "2023-12-04 188.713882\n",
      "2023-12-05 192.688812\n",
      "2023-12-06 191.592972\n",
      "2023-12-07 193.535599\n",
      "2023-12-08 194.970154\n",
      "2023-12-11 192.449707\n",
      "2023-12-12 193.973953\n",
      "2023-12-13 197.211670\n"
     ]
    },
    {
     "name": "stderr",
     "output_type": "stream",
     "text": [
      "\n"
     ]
    },
    {
     "data": {
      "text/plain": [
       "22.783554077148438"
      ]
     },
     "execution_count": 2,
     "metadata": {},
     "output_type": "execute_result"
    }
   ],
   "source": [
    "from eval_model import calculate_pnl_with_real_data\n",
    "from utils import *\n",
    "\n",
    "ticker = \"AAPL\"\n",
    "start_date = \"2023-12-01\"\n",
    "end_date_str = \"2023-12-13\"\n",
    "end_date = datetime.strptime(end_date_str, '%Y-%m-%d')\n",
    "\n",
    "# Create trades object\n",
    "trades_obj = trades(ticker=\"AAPL\", startDate=start_date, endDate=\"2023-12-05\")\n",
    "trades_obj.trades.append(trade('2023-12-01 00:00:00', 'buy', 5))\n",
    "trades_obj.trades.append(trade('2023-12-04 00:00:00', 'buy', 3))\n",
    "trades_obj.trades.append(trade('2023-12-05 00:00:00', 'sell', 8))\n",
    "\n",
    "calculate_pnl_with_real_data(trades_obj, end_date)"
   ]
  }
 ],
 "metadata": {
  "kernelspec": {
   "display_name": "traderBenchmark",
   "language": "python",
   "name": "python3"
  },
  "language_info": {
   "codemirror_mode": {
    "name": "ipython",
    "version": 3
   },
   "file_extension": ".py",
   "mimetype": "text/x-python",
   "name": "python",
   "nbconvert_exporter": "python",
   "pygments_lexer": "ipython3",
   "version": "3.12.2"
  }
 },
 "nbformat": 4,
 "nbformat_minor": 2
}
